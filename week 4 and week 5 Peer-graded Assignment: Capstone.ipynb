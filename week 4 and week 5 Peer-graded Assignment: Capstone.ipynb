{
    "cells": [
        {
            "cell_type": "markdown",
            "metadata": {
                "collapsed": true
            },
            "source": "# Introduction "
        },
        {
            "cell_type": "markdown",
            "metadata": {},
            "source": "### The purpose of this Project is to help people in explore and find the best facilities around their neighbourhood. It will help people make the best and most efficient decision on selecting a great neighbourhood out of the various neighbourhoods in Scarborough, Toronto.\n\n### A lot of people are migrating to various states of Canada and need a lot of information to make a educated decision for example good housing prices and schools with good reputation for their children. This project is for families with children and good household income that are looking for a new neighbourhood to live. For ease of accessing to Cafe, School, Supermarket, medical shops, grocery shops, mall, theatre, hospital, likeminded people, etc.\n\n### This Project aim to create an analysis of features for a people migrating to Scarborough to search a best neighbourhood as a comparative analysis between neighbourhoods. The features include median housing price and better school according to ratings, crime rates of that area, road connectivity, weather conditions, good management for emergency, water resources both fresh and wastewater and excrement conveyed in sewers and recreational facilities.\n\n### It will help people to get awareness of the area and neighbourhood before moving to a new city, state, country or place for their work or to start a new fresh life.\n"
        },
        {
            "cell_type": "markdown",
            "metadata": {},
            "source": "# Problems solved"
        },
        {
            "cell_type": "markdown",
            "metadata": {},
            "source": "### The major purpose of this project is to suggest a better neighbourhood in a new city for the person who are shifting there. Social presence in society in terms of likeminded people within the neighbourhood. A Connectivity to necessities for example the airport, bus stand, city centre, markets and other daily needs things nearby.\n\n1. Sorted list of houses in terms of housing prices in an ascending or descending order\n2. Sorted list of schools in terms of location, fees, rating and reviews\n"
        },
        {
            "cell_type": "markdown",
            "metadata": {},
            "source": "# Scarborough Location "
        },
        {
            "cell_type": "markdown",
            "metadata": {},
            "source": "### Scarborough is a popular destination for  immigrants in Canada to reside. As a result, it is one of the most diverse and multicultural areas in the Greater Toronto Area, being home to various religious groups and places of worship. Although immigration has become a hot topic over the past few years with more governments seeking more restrictions on immigrants and refugees, the general trend of immigration into Canada has been one of on the increase."
        },
        {
            "cell_type": "markdown",
            "metadata": {},
            "source": "# Foursquare"
        },
        {
            "cell_type": "markdown",
            "metadata": {},
            "source": "### This project would use Four-square API as its prime data gathering source as it has a database of millions of places, especially their places API which provides the ability to perform location search, location sharing and details about a business."
        },
        {
            "cell_type": "markdown",
            "metadata": {},
            "source": "# Work Flow"
        },
        {
            "cell_type": "markdown",
            "metadata": {},
            "source": "### Using the credentials of Foursquare API features of near-by places of the neighbourhoods would be mined. Due to http request limitations the number of places per neighbourhood parameter would reasonably be set to 100 and the radius parameter would be set to 500."
        },
        {
            "cell_type": "markdown",
            "metadata": {},
            "source": " # Clustering Approach"
        },
        {
            "cell_type": "markdown",
            "metadata": {},
            "source": "### To compare the similarities of two cities, we decided to explore neighbourhoods, segment them, and group them into clusters to find similar neighbourhoods in a big city like New York and Toronto. To be able to do that, we need to cluster data which is a form of unsupervised machine learning: k-means clustering algorithm."
        },
        {
            "cell_type": "code",
            "execution_count": null,
            "metadata": {},
            "outputs": [],
            "source": ""
        },
        {
            "cell_type": "code",
            "execution_count": null,
            "metadata": {},
            "outputs": [],
            "source": ""
        }
    ],
    "metadata": {
        "kernelspec": {
            "display_name": "Python 3.6",
            "language": "python",
            "name": "python3"
        },
        "language_info": {
            "codemirror_mode": {
                "name": "ipython",
                "version": 3
            },
            "file_extension": ".py",
            "mimetype": "text/x-python",
            "name": "python",
            "nbconvert_exporter": "python",
            "pygments_lexer": "ipython3",
            "version": "3.6.9"
        }
    },
    "nbformat": 4,
    "nbformat_minor": 1
}