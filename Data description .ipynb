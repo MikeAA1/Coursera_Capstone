{
    "cells": [
        {
            "cell_type": "markdown",
            "metadata": {
                "collapsed": true
            },
            "source": "# Data description "
        },
        {
            "cell_type": "markdown",
            "metadata": {},
            "source": "### The Scarborough dataset has been obtained from the Wikipedia on Week 3. The dataset will consist latitude and longitude, zip codes."
        },
        {
            "cell_type": "markdown",
            "metadata": {},
            "source": "### Data Link: https://en.wikipedia.org/wiki/List_of_postal_codes_of_Canada:_M"
        },
        {
            "cell_type": "markdown",
            "metadata": {},
            "source": "# Foursquare API Data"
        },
        {
            "cell_type": "markdown",
            "metadata": {},
            "source": "### We will need data about the different venues in different neighbourhoods of that specific borough. To gain that information, \"Foursquare\" locational information will need to be used. Foursquare is a location data provider with information about the venues and events within an area of interest. The information includes venue names, locations, menus and even photos. As such, the foursquare location platform will be used as the sole data source since all the stated required information can be obtained through the API."
        },
        {
            "cell_type": "markdown",
            "metadata": {},
            "source": "### After discovering the list of neighbourhoods,  it\u2019ll then connect to the Foursquare API to gather information about venues inside every neighbourhood. For each neighbourhood, we have chosen the radius to be 100 meters."
        },
        {
            "cell_type": "markdown",
            "metadata": {},
            "source": "### The data retrieved from Foursquare contained information of venues within a specified distance of the longitude and latitude of the postcodes. The information obtained per venue as follows:\n1.\tNeighbourhood\n2. Neighbourhood Latitude\n3. Neighbourhood Longitude\n4. Venue\n5. Name of the venue e.g. the name of a store or restaurant\n6. Venue Latitude\n7. Venue Longitude\n8. Venue Category\n"
        },
        {
            "cell_type": "code",
            "execution_count": null,
            "metadata": {},
            "outputs": [],
            "source": ""
        }
    ],
    "metadata": {
        "kernelspec": {
            "display_name": "Python 3.6",
            "language": "python",
            "name": "python3"
        },
        "language_info": {
            "codemirror_mode": {
                "name": "ipython",
                "version": 3
            },
            "file_extension": ".py",
            "mimetype": "text/x-python",
            "name": "python",
            "nbconvert_exporter": "python",
            "pygments_lexer": "ipython3",
            "version": "3.6.9"
        }
    },
    "nbformat": 4,
    "nbformat_minor": 1
}